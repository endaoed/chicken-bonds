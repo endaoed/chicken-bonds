{
 "cells": [
  {
   "cell_type": "markdown",
   "id": "b6458fc9",
   "metadata": {},
   "source": [
    "# Accounting for User Subjectivity - An Approach to Modelling Subjectively determined Exogenous System Variables\n",
    "\n",
    "Qwerte\n",
    "\n",
    "> We provide descriptions and interactive plots to provide an intuition for the inner workings of our beta-distribution based instrument for modelling manifested demand.\n",
    "\n",
    "___\n",
    "### Context\n",
    "___\n",
    "The Endaoed exploration of the question posed by the Liquity team has landed on a strategy that lands adjacent to what was asked for. The approach does not attempt not to model price directly, but instead we have chosen to develop a model that describes how the informed demand of a user actualises to a decision. Two concern have deterred exploration into routes towards price estimation with economic-behavioural tools: Classic Walrassian assumptions such as rationality, weak rationality, perfect information, market liquidity, concave utility, etc, are not only fanciful, they are especially unreasonable in the context of protocols likely to employ the CB mechanism. More critically however, such insistent algebraic and calculus schlonging intended to bully out some suggestion of a price from the system variables can be quite unbearable on the eyes and, all too often in the experience of the author, the soul. Thus from our nicotine fuelled musings, an alternative was arrived at which employs the spirit of the beta distribution! It is the conviction of the Endaoed team that this soul-affirming, pragmatic and dignified cooperation with the system variables contains the kernel of a profitable insight.\n",
    "\n",
    "\n",
    "___\n",
    "### The Beta Composition Strategy\n",
    "___\n",
    "Describing the strategy in the broadest strokes allows the reader to speculate as to how it may be generally applied in similar subjectivity-simulating situations. \n",
    "Thus, details for the exogenous variables of the CB mechanism will be discussed in detail later. The general strategy is as follows:\n",
    "\n",
    "##### Strategy Outline\n",
    "At any timestep, to determine how an agent presented with a decision to make might exercise a choice, define the decision such that it is to be \"followed through\" with some probability:\n",
    "\n",
    "1. Identify all system variables for which a subjective interpretation is required of the agent in order to make a decision.\n",
    "2. To each system variable, define a score that identifies a \"low\" to \"high\" range of possible variable values. This may require some conversion by metric-y means.\n",
    "3. Define an interpretative map such that a \"low\" value of the variable maps to a \"low\" probability that the agent will exercise the choice, \"high\" for high.\n",
    "4. Parameterise each variable's \"low\" to \"high\" range such that it maps to the interval $[1.5, 10.5]$, which will be the alpha parameter of a beta distribution. The beta parameter is determined by some relation to alpha. The attitude with which this map is to be determined is that of choosing a continuous series of Bayesian priors.\n",
    "5. Once the general continuum of priors is defined for each system variable, yield actual beta distribution parameters based on the system variable quantities at the timestep\n",
    "6. Exploit the beta distribution's composability property to arrive at composite beta distribution parameters. \\*(Further notes on Beta dist at the bottom)\n",
    "7. Use this prior to collect samples or use the betabinomial with the composite parameters to attain a decision.\n",
    "\n",
    "The final beta distribution attained can be thought of as a composite bayesian prior. The simple composability of the beta distribution allows us to easily acquire a model for the agent's likeliness to exercise the choice. It takes into account any subjective consideration that may influence an agent's decision, parameterised in any way we choose, composes them seamlessly all while remaining completely modular.  One further flourish can be inserted between the original range and the final outputted beta parameters to bring even more realistic dynamics to the system, which is the use of a parameter modifier. The use of a modifier function allows the \"rate of change of betas\" speaking loosely, to match our expectations. \n",
    "\n",
    "##### Example\n",
    "To give a relevant, dummy example: consider a bond holder who is deciding whether or not they should redeem a bond. One imagines that the likeliness of redeeming, is a piecemeal function of time: from the moment of bonding until break-even, we would expect the probability of chickening in to be sticky around zero, though it may increase very slowly. After that point, the likeliness of redemption shoots upwards as the bond's age approaches \"optimal\" (whatever the user considers optimal given their particular strategy). Once the age of the bond breaks optimal redemption time, we expect the probability to never go to 100%, but to be sticky around 100% for every timestep thereafter. Modelling these attitudes with parametric functions, the lowest level parameter $p$ moves from  $[0, 1]$ linearly, but the parameter which determines where the bulk of the beta distribution lies is determined by, say,  $p^n$ which, while not piecemeal, captures the sentiment well enough for the purpose of this example. Thus, as $p$ moves across the unit interval, the beta distribution's mass moves with polynomial acceleration across the domain. (An interactive plot is provided below for an intuitive feel)\n",
    "\n",
    "##### Modifier\n",
    "This parameter modifier is also totally modular. Any modifier can be plugged in the place of $p^n$ to make the beta change however we wish. To hint at another example, we could hypothesise that the likeliness of redeeming bTKNs may have some connection with the daily return of the underlying TKN. If the TKN price suddenly jumped upwards and I had a position in bTKN, I could imagine I'd be tempted to redeem and dump slowly. In this case, we could use an exponential, linear relation, sinusoidal, whatever. \n",
    "\n",
    "A natural way to implement this is to place the parametric's parameters that determine agent beta distribution parameters as properties of the agent. This is sensible on the interpretation front as it is the agent's propensities that are being beta-dist'ed. And a corollary of this setup is that we can design subpopulations of users by engineering \"typical\" parameter profiles. Thus, we can consider users who are \"rational\", \"risk averse\", \"yeet the portfolio\", etc. This is where behavioural speculation can take the limelight on the stage provided by our plug-and-play instrument.\n",
    "\n",
    "##### Final Remark\n",
    "We are not quite sure how this strategy could be tied into actual price estimates. We only wish to provide a more sophisticated and nuanced approach to the determination of exogenous variables without the mudslide of complexity. This grants us a pragmatic approach with which exogenous behaviour for our cadCad simulation could be implemented without mess. Therefore, we expect that our implementation may not be sufficient, and we are not so bold as to think that it is complete. Thus, we fully endorse the profitable appropriation of this small instrument or any of its components into any other context."
   ]
  },
  {
   "cell_type": "code",
   "execution_count": 9,
   "id": "f0a07022",
   "metadata": {},
   "outputs": [],
   "source": [
    "import numpy as np\n",
    "import matplotlib.pyplot as plt\n",
    "from explain_beta_helper import *"
   ]
  },
  {
   "cell_type": "markdown",
   "id": "b96086c3",
   "metadata": {},
   "source": [
    "### Beta Intuition \n",
    "By toying with the parameters, one can arrive acquire a feel for how it moves:"
   ]
  },
  {
   "cell_type": "code",
   "execution_count": 10,
   "id": "87d85a35",
   "metadata": {
    "scrolled": false
   },
   "outputs": [
    {
     "data": {
      "application/vnd.jupyter.widget-view+json": {
       "model_id": "84384d81fe73419eb0b05d2b3f1c8dc9",
       "version_major": 2,
       "version_minor": 0
      },
      "text/plain": [
       "interactive(children=(FloatSlider(value=6.0, description='a', max=40.0, step=0.001), FloatSlider(value=6.0, de…"
      ]
     },
     "metadata": {},
     "output_type": "display_data"
    },
    {
     "data": {
      "application/vnd.jupyter.widget-view+json": {
       "model_id": "2ac784155a274655ae15be5c669d067e",
       "version_major": 2,
       "version_minor": 0
      },
      "text/plain": [
       "FigureWidget({\n",
       "    'data': [{'type': 'scatter',\n",
       "              'uid': '90944ef4-efe0-46c4-94a0-6179fe478544',\n",
       " …"
      ]
     },
     "metadata": {},
     "output_type": "display_data"
    }
   ],
   "source": [
    "standard_beta()"
   ]
  },
  {
   "cell_type": "markdown",
   "id": "0ec852cd",
   "metadata": {},
   "source": [
    "After some time, it might be observed that alpha and beta moving in contrary motion slides the mass of the beta distribution across the unit interval. The gliding motion of the distribution created by the contra-motion of the parameters suggests a way in which the beta's parameters might suggest a mapping of unlikeliness to likeliness where rising alpha values generally correspond to rising likeliness and rising beta values generally corresponds to lowering. This is the motivation for having a constraint at all. The choice of 12 as the upper bound is perhaps unnecessary, but it feels safe having not the time to analyse to much depth. Some experimentation at the boundaries of $\\alpha + \\beta = 12$ may reveal why. In any case, the interactive plot below is identical to the previous, but only the control for the alpha parameter is exposed. The beta value is determined automatically by $\\beta = 12-\\alpha$. Observe how the mass of the distribution slides across the domain. "
   ]
  },
  {
   "cell_type": "code",
   "execution_count": 11,
   "id": "e0f102d0",
   "metadata": {
    "scrolled": false
   },
   "outputs": [
    {
     "data": {
      "application/vnd.jupyter.widget-view+json": {
       "model_id": "ae32ed42f61c495fa13a9ba6bcc0da85",
       "version_major": 2,
       "version_minor": 0
      },
      "text/plain": [
       "interactive(children=(FloatSlider(value=6.0, description='a', max=10.5, min=1.5, step=0.001), Output()), _dom_…"
      ]
     },
     "metadata": {},
     "output_type": "display_data"
    },
    {
     "data": {
      "application/vnd.jupyter.widget-view+json": {
       "model_id": "1a12ce96b4df4c6aad7ab222166f586b",
       "version_major": 2,
       "version_minor": 0
      },
      "text/plain": [
       "FigureWidget({\n",
       "    'data': [{'type': 'scatter',\n",
       "              'uid': 'f7a9b7b9-462c-477f-92e3-30ccc2f1eabd',\n",
       " …"
      ]
     },
     "metadata": {},
     "output_type": "display_data"
    }
   ],
   "source": [
    "constrained_beta()"
   ]
  },
  {
   "cell_type": "markdown",
   "id": "0ecb7b0b",
   "metadata": {},
   "source": [
    "The next layer of manipulation determines the sensitivity of the beta to the underlying parameter. This is the effect of the modifier functions mentioned earlier. Sliding the alpha parameter with constant speed in the previous interactive will slide the distribution across the unit interval with constant speed. This is not the case for the interactive below. The distribution below is relatively insensitive to change of alpha on the lower portion of the interval, but is very sensitive to the upper. This rate of change modification is achieved by re-parameterising the alpha and beta values so that they still add to the constant $12$ but also move with an acceleration. For the interactive plot below, the parameters are defined: \n",
    "$$\n",
    "\\begin{align}\\alpha = 9p^{8}+1.5\\\\ \\beta = 10.5 - 9 p^{8}\n",
    "\\end{align}\n",
    "$$\n",
    "where $p \\in [0, 1]$ is the linearly changing parameter\n",
    "\n",
    "The choice of 8 as the exponent was for exaggerated visual effect and is otherwise arbitrary. The choice of polynomial function is also arbitrary. It could be replaced by an exponential or any other choice of function."
   ]
  },
  {
   "cell_type": "code",
   "execution_count": 12,
   "id": "c42abb7e",
   "metadata": {},
   "outputs": [
    {
     "data": {
      "application/vnd.jupyter.widget-view+json": {
       "model_id": "e671b2cfbf0544fa8dd038980d0b7422",
       "version_major": 2,
       "version_minor": 0
      },
      "text/plain": [
       "interactive(children=(FloatSlider(value=0.0, description='p', max=1.0, step=0.001), Output()), _dom_classes=('…"
      ]
     },
     "metadata": {},
     "output_type": "display_data"
    },
    {
     "data": {
      "application/vnd.jupyter.widget-view+json": {
       "model_id": "eca3aaa5b81b4be4b3fc2dacf8c94a3a",
       "version_major": 2,
       "version_minor": 0
      },
      "text/plain": [
       "FigureWidget({\n",
       "    'data': [{'type': 'scatter',\n",
       "              'uid': 'ca90caaa-99ad-4f66-824e-dea274c3ad9d',\n",
       " …"
      ]
     },
     "metadata": {},
     "output_type": "display_data"
    }
   ],
   "source": [
    "constrained_beta_with_nonlinear_param()"
   ]
  },
  {
   "cell_type": "markdown",
   "id": "0b5ded7f",
   "metadata": {},
   "source": [
    "The final piece of intuition that may be valuable is to understand is how exactly the composition occurs, and why we choose to add parameters as compared to adding the functions as a superimposition and normalising. After all, the priors could have been superimposed, as is suggested by Richard Royall in his Statistical Evidence: A Likelihood Paradigm. This method makes the most sense if we had multiple pieces of evidence for the same underlying phenomenon, but this is not the case for our mechanism. Instead, we require of the agent considerations for multiple differing underlying forces, each which will have associated priors not necessarily related to another. Still, they are all subjectively influential, and thus the information must be composed in another way. Multiplied, the distributions combine like priors and likelihoods, though this comparison is not perfect for reasons outlined in the bottom maths section. On the other hand, it's not completely unlike priors and likelihoods: suppose two subjective considerations independently suggest to the agent a 10% chance ($B(2, 20)$) of exercising a decision. Then to consider both, they sharpen the agent's confidence on that 10% value - visually, we would expect two betas that clump around 0.1 to compose into a narrower beta that clumps around 10%. Since neither of the two considerations contain evidence in the form of actual data, theoretically the pair shouldn't move the probability. Thus, there is some realism to the multiplicative approach, for which the final parameters are a function of the sum of the parameters for the individual considerations."
   ]
  },
  {
   "cell_type": "code",
   "execution_count": 13,
   "id": "b8705994",
   "metadata": {
    "scrolled": false
   },
   "outputs": [
    {
     "data": {
      "application/vnd.jupyter.widget-view+json": {
       "model_id": "ed1449b5c5f149ca94360c35daa50cc4",
       "version_major": 2,
       "version_minor": 0
      },
      "text/plain": [
       "interactive(children=(FloatSlider(value=1.5, description='a', max=10.5, min=1.5, step=0.001), Output()), _dom_…"
      ]
     },
     "metadata": {},
     "output_type": "display_data"
    },
    {
     "data": {
      "application/vnd.jupyter.widget-view+json": {
       "model_id": "b2644c458fec4bd397f1be2fa4b63350",
       "version_major": 2,
       "version_minor": 0
      },
      "text/plain": [
       "FigureWidget({\n",
       "    'data': [{'name': 'summed beta',\n",
       "              'type': 'scatter',\n",
       "              'uid': '32f…"
      ]
     },
     "metadata": {},
     "output_type": "display_data"
    }
   ],
   "source": [
    "additive_beta_composition()"
   ]
  },
  {
   "cell_type": "markdown",
   "id": "9af4dd78",
   "metadata": {},
   "source": [
    "1. summed beta (blue) is the superimposition (added) beta that is the output beta\n",
    "2. fixed beta (dashed black) is the base beta which is fixed for the sake of example\n",
    "3. added beta (orange) is the beta which is added onto the base\n",
    "\n",
    "Note the above is adding the betas directly without normalisation. The summed beta does not behave in a way that matches sensible assumptions about agents:\n",
    "1. When the added beta (orange, affected by slider) is on the right, we get a two-hump prior\n",
    "2. When the added beta is on the left, the superimposition achieves get no sharpening of confidence (a tightened distribution). Instead, the summed beta is roughly as wide as the fixed beta."
   ]
  },
  {
   "cell_type": "code",
   "execution_count": 14,
   "id": "2a5eea74",
   "metadata": {
    "scrolled": false
   },
   "outputs": [
    {
     "data": {
      "application/vnd.jupyter.widget-view+json": {
       "model_id": "73309c33617741f19dd077df44b8637c",
       "version_major": 2,
       "version_minor": 0
      },
      "text/plain": [
       "interactive(children=(FloatSlider(value=1.5, description='red', max=10.0, min=1.5, step=0.001), Output()), _do…"
      ]
     },
     "metadata": {},
     "output_type": "display_data"
    },
    {
     "data": {
      "application/vnd.jupyter.widget-view+json": {
       "model_id": "ffa2f9f0b4fb46fdbefc56d13a06230f",
       "version_major": 2,
       "version_minor": 0
      },
      "text/plain": [
       "FigureWidget({\n",
       "    'data': [{'name': 'composite Beta',\n",
       "              'type': 'scatter',\n",
       "              'uid': '…"
      ]
     },
     "metadata": {},
     "output_type": "display_data"
    }
   ],
   "source": [
    "multiplicative_beta_composition()"
   ]
  },
  {
   "cell_type": "markdown",
   "id": "e684ff01",
   "metadata": {},
   "source": [
    "1. composite beta (blue) is the composed (multiplied) beta that is the output beta\n",
    "2. fixed beta (dashed black) is the base beta which is fixed for the sake of example\n",
    "3. imposed beta (orange) is the beta which is multiplied to the base\n",
    "\n",
    "Experimentation with the parameter and inspection will be most informative, but I wish to point out, regarding the blue composite beta: \n",
    "- Sharpens as the fixed and imposed betas overlap (black and orange combine in a way that \"sharpens\" confidence)\n",
    "- is a Single hump prior that \"averages\" the two in a way that feels like a reasonable approximation of realistic, subjective composition of information\n",
    "\n",
    "This gives us all the necessary parametric tools and intuitions to start thinking about the strategy.\n"
   ]
  },
  {
   "cell_type": "markdown",
   "id": "efe81bfc",
   "metadata": {},
   "source": [
    "## Strategy example\n",
    "\n",
    "Details of the general strategy are not yet clearly defined, both in this notebook, and the actual formulation the author has in mind. Therefore, it is easiest (and realistic given time constraints) to convey understanding by fabricating an example. For simplicity, let's suppose that an agent is holding a bond and considers at every timestep from initialisation until redemption whether or not the bond should be redeemed. For simplicity without loss of insight/generality, let us assume that there are three considerations the agent mulls over before making a decision. Let's use the outline of the strategy and fill in the technical details step by step:\n",
    "\n",
    "##### 1. Identify all system vairables for which a subjective interpretation is required of the agent in order to make a decision.\n",
    "1. Age of the bond owned by the agent\n",
    "2. Volume of TKN traded on Uniswap the day before\n",
    "3. Total number of yellow cars spotted on commutes the day before\n",
    "\n",
    "##### 2. To each system variable, define a score that identifies a \"low\" to \"high\" range of possible variable values. This may require some conversion by metric-y means.\n",
    "1. $[0, 35]$ (optimal redemption time is 35)\n",
    "2. $[5 \\times 10^3, 5\\times 10^6]$\n",
    "3. $[1, 10]$ (the agent's car is yellow)\n",
    "\n",
    "These don't exhaust the possible range of values that could be observed. They are only the values at which the agent's probabilities hit boundaries (which yield distributions from which a decision is sampled - not spot probabilities).\n",
    "\n",
    "##### 3. Define an interpretative map such that a \"low\" value of the variable maps to a \"low\" probability that the agent will exercise the choice, \"high\" for high.\n",
    "1. low values -> low probability with polynomial velocity\n",
    "    - $\\alpha \\propto p^d, \\beta 12 - p^d$ for parameter $p \\in [0,1]$ and degree $d$\n",
    "2. low values -> low probability with root velocity\n",
    "    - $\\alpha \\propto ln(p), \\beta 12 - ln(p)$ for parameter $p \\in [0,1]$\n",
    "3. Uniform\n",
    "    - $\\alpha = 1, \\beta = 1$\n",
    "\n",
    "##### 4. Parameterise each variable's \"low\" to \"high\" range such that it maps to the interval $[1.5, 10.5]$, which will be the alpha parameter of a beta distribution. The beta parameter is determined by some relation to alpha. The attitude with which to determine this map is that of choosing a continuous series of Bayesian priors.\n",
    "\n",
    "For all considerations:\n",
    "    $$\\text{alpha range} = \\frac{(I_{nterval} - I_{min}) (10.5 - 1.5)}{I_{max} - I_{min}}$$\n",
    "and \n",
    "$$\\beta = 12-\\alpha$$\n",
    "\n",
    "##### 5. Once the general continuum of priors is defined for each system variable, yield actual beta distribution parameters based on the system variable quantities at the timestep\n",
    "For the sake of example, let us consier two possible states at timestep $t$, ranges in $\\mathbb{R}$ for agent's propensity velocities: polynomial degree 3, logarithmic degree 2, uniform \"degree\" 1:\n",
    "\n",
    "\n",
    "Version 1\n",
    "\n",
    "$$\n",
    "\\begin{align}\n",
    "\\tilde{age} &= 12\\\\\n",
    "\\tilde{vol} &= 3.2\\times 10^{3}\\\\\n",
    "\\tilde{cars} &=3\\\\\n",
    "\\end{align}\n",
    "$$\n",
    "\n",
    "Version 2\n",
    "$$\n",
    "\\begin{align}\n",
    "\\tilde{age} &= 35\\\\\n",
    "\\tilde{vol} &= 1.78\\times 10^{7}\\\\\n",
    "\\tilde{cars} &=2\\times 10^{153} \\>\\>\\>\\> \\tiny\\text{(busy day)}\\\\\n",
    "\\end{align}\n",
    "$$\n",
    "\n",
    "- Range to Unit functions $f: \\mathbb{R} \\mapsto [0, 1]$\n",
    "$$\n",
    "\\begin{align}\n",
    "f_{age}(\\tilde{age}) &= \\frac{age}{35}\\\\\\\\\n",
    "f_{vol}(\\tilde{vol}) &= \\frac{(\\tilde{vol} - 5 \\times 10^3)}{5\\times 10^6 - 5 \\times 10^3}\\\\\\\\\n",
    "f_{car}(\\tilde{cars}) &= \\frac{\\tilde{cars} - 1}{10-1}\n",
    "\\end{align}\n",
    "$$\n",
    "\n",
    "- Linear Unit to Nonlinear Unit\n",
    "$$\n",
    "\\begin{align}\n",
    "f_{poly}(x, d) &= x^{d}\\\\\\\\\n",
    "f_{log}(x, d) &= \\frac{ln(x)}{ln(d)}\\\\\\\\\n",
    "f_{uni}(x, d) &= 1\\\\\n",
    "\\end{align}\n",
    "$$\n",
    "\n",
    "- Unit to Alpha param functions $f:[0, 1] \\mapsto [1.5, 10.5]$\n",
    "\n",
    "$$\n",
    "\\begin{align}\n",
    "f_{\\alpha}(x) = \\frac{x}{10.5 - 1.5} + 1.5\n",
    "\\end{align}\n",
    "$$\n",
    "\n",
    "\n",
    "\n",
    "\n",
    "\n",
    "##### 6. Exploit the beta distribution's composability property to arrive at beta distribution parameters.\n",
    "V1:\n",
    "- age param: 0.04\n",
    "- vol param: 0.27\n",
    "- car param: NA\n",
    "    - $\\alpha$ = 6.82\n",
    "    - $\\beta$ = 19.18\n",
    "\n",
    "V2:\n",
    "- age param: 1\n",
    "- vol param: 0.68\n",
    "- car param: NA\n",
    "    - $\\alpha$ = 19.08\n",
    "    - $\\beta$ = 6.92\n",
    "\n",
    "##### 7. Use this prior to collect samples or use the betabinomial with the composite parameters to attain a decision.\n",
    "\n",
    "You do it man. I'm done.\n",
    "\n",
    "\n",
    "\n",
    "\n",
    "### Remarks\n",
    "1. Unit transfomation not necessary on the maths front\n",
    "\n",
    "Really, you can go from variable range to alpha range in one function. I've split it because it may be useful for potential metric reasons in the simulation.\n",
    "\n",
    "2. Choicie of composition rules\n",
    "\n",
    "The composing of beta distributions is assumed to be purely multiplicative. There may be need for some notion of division composition, as addition skews everything to the right. Alternatively ensure functions are sticky to the left. A fuller analysis would be required to identify an ideal approach. Another issue is that there are certainly subjective factors which may overwhelm other consideations entirely. For example, once a bond hits optimal redemption time, it feels like a more sensible assumption that the agent would ignore almost all other variables most of the time. I leave these as an exercise to the reader because I need a holiday.\n",
    "\n",
    "3. The maths doesnt exactly work out here.\n",
    "\n",
    "Yeah this example is kinda fudged. I don't have the time or energy to clean it up rn."
   ]
  },
  {
   "cell_type": "code",
   "execution_count": 15,
   "id": "dc400a5e",
   "metadata": {},
   "outputs": [
    {
     "name": "stdout",
     "output_type": "stream",
     "text": [
      "alpha, beta matrix:  [[ 1.86272886 10.13727114]\n",
      " [ 3.95817068  8.04182932]\n",
      " [ 1.          1.        ]]\n",
      "composed parameters:  (6.820899542676393, 19.179100457323607)\n",
      "alpha, beta matrix:  [[10.5         1.5       ]\n",
      " [ 7.58481821  4.41518179]\n",
      " [ 1.          1.        ]]\n",
      "composed parameters:  (19.0848182102521, 6.9151817897479)\n"
     ]
    },
    {
     "data": {
      "text/plain": [
       "[[array([[ 1.86272886, 10.13727114],\n",
       "         [ 3.95817068,  8.04182932],\n",
       "         [ 1.        ,  1.        ]]),\n",
       "  (6.820899542676393, 19.179100457323607)],\n",
       " [array([[10.5       ,  1.5       ],\n",
       "         [ 7.58481821,  4.41518179],\n",
       "         [ 1.        ,  1.        ]]),\n",
       "  (19.0848182102521, 6.9151817897479)]]"
      ]
     },
     "execution_count": 15,
     "metadata": {},
     "output_type": "execute_result"
    }
   ],
   "source": [
    "r1, r2, r3 = np.array([0, 35]), np.array([1e3, 5e6]), np.array([1, 10])\n",
    "v1, v2 = [12, 3.2e3, 3], [35, 1.78e4, 2e153]\n",
    "\n",
    "ranges = [\n",
    "    [r1, \"polynomial\", 3],\n",
    "    [r2, \"log\", 2], \n",
    "    [r3, \"uniform\", 1]\n",
    "]\n",
    "versions = [v1, v2]\n",
    "\n",
    "instance(versions, ranges, verbose=True)"
   ]
  },
  {
   "cell_type": "code",
   "execution_count": 16,
   "id": "7aadd8bc",
   "metadata": {},
   "outputs": [
    {
     "data": {
      "image/png": "[encoded data removed]",
      "text/plain": [
       "<Figure size 864x576 with 4 Axes>"
      ]
     },
     "metadata": {
      "needs_background": "light"
     },
     "output_type": "display_data"
    }
   ],
   "source": [
    "plot_summary()"
   ]
  },
  {
   "cell_type": "markdown",
   "id": "de68719f",
   "metadata": {},
   "source": [
    "\n",
    "Good enough."
   ]
  },
  {
   "cell_type": "markdown",
   "id": "2e9a3d89",
   "metadata": {},
   "source": [
    "## Further notes on Beta dist\n",
    "\n",
    "The PDF for the beta distribution on $ x\\in [0, 1]$ with parameters $\\alpha, \\beta \\in \\mathbb{R}$ :\n",
    "\n",
    "$$\n",
    "f(x, \\alpha, \\beta) = \\frac{1}{B(\\alpha, \\beta)} x^{\\alpha-1}(1-x)^{\\beta-1}\n",
    "$$\n",
    "\n",
    "where the $B$ function is a bunch of gamma stuff, which serves as a normalising constant on the $x$ part of the function (the kernel)\n",
    "\n",
    "The kernel of the beta pdf reveals why the beta functions are so compliant to being composed. If we have two beta distributions, $Beta_1(\\alpha_1, \\beta_1)$ and  $Beta_2(\\alpha_2, \\beta_2)$ then, ignoring the normaliser, we have:\n",
    "\n",
    "$$\n",
    "\\begin{align}\n",
    "&Beta_1(\\alpha_1, \\beta_1) \\cdot Beta_2(\\alpha_2, \\beta_2)\\\\\n",
    "\\implies &x^{\\alpha_1 - 1}(1-x)^{\\beta_1 - 1} \\cdot x^{\\alpha_2 - 1}(1-x)^{\\beta_2 - 1}\\\\\n",
    "\\implies &x^{\\alpha_1 + \\alpha_2 - 2}(1-x)^{\\beta_1 + \\beta_2 - 2}\\\\\n",
    "\\implies &Beta_1(\\alpha_1 + \\alpha_2 - 1, \\beta_1 + \\beta_2 - 1)\\\\\n",
    "\\end{align}\n",
    "$$\n",
    "\n",
    "For $n$ system variables, that's n beta distributions composed into final beta dist $\\mathcal{Beta}$:\n",
    "\n",
    "$$\n",
    "\\begin{align}\n",
    "&\\mathcal{Beta}(A-n, B-n)\n",
    "\\end{align}\n",
    "$$\n",
    "where $A = \\sum_{i=1}^{n} \\alpha_i$ and $B = \\sum_{i=1}^{n} \\beta_i$ are the sums of system parameters\n",
    "\n",
    "Since we aren't combining a prior with a likelihood, it doesn't add up to a posterior exactly. I'm not sure how to interpret the fact that the new parameters are one reduced per new subjective variable, but I suspect it has something to do with degrees of freedom. If this were to actualise into a complete instrument and finds itself plugged into a statistical machine taking real data, then I suspect we'd have to cull a data point per prior we combine.\n",
    "\n",
    "There is also the yet undiscussed but rather crucial question of how exactly the parameters should be combined. Adding was the first thing that comes to mind due to the resemblance to priors and likelihoods, but resemblance doesn't counts as analysis. There are some behaviours of adding the parameters which do seem quite reasonable. To mention just one, parameters that are proximal stack and narrow the distribution around the multiple root, which can be interpreted as focused  conviction on a particular probability if multiple system variables suggest the same subjective information to the agent. If time allowed, a more rigorous analysis and better justified decisions would have been appropriate."
   ]
  },
  {
   "cell_type": "code",
   "execution_count": null,
   "id": "eb1d2fdb",
   "metadata": {},
   "outputs": [],
   "source": []
  }
 ],
 "metadata": {
  "kernelspec": {
   "display_name": "cadenv",
   "language": "python",
   "name": ".cadenv"
  },
  "language_info": {
   "codemirror_mode": {
    "name": "ipython",
    "version": 3
   },
   "file_extension": ".py",
   "mimetype": "text/x-python",
   "name": "python",
   "nbconvert_exporter": "python",
   "pygments_lexer": "ipython3",
   "version": "3.9.7"
  }
 },
 "nbformat": 4,
 "nbformat_minor": 5
}

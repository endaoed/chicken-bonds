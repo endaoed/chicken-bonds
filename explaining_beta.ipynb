{
 "cells": [
  {
   "cell_type": "markdown",
   "id": "b6458fc9",
   "metadata": {},
   "source": [
    "# Accounting for User Subjectivity - An Approach to Modelling Subjectively determined Exogenous System Variables\n",
    "\n",
    "Qwerte\n",
    "\n",
    "> We provide descriptions and interactive plots to provide an intuition for the inner workings of our beta-distribution based instrument for modelling manifested demand.\n",
    "\n",
    "#### ToC\n",
    "1. Context, Strategy and Remarks\n",
    "2. Beta Intuition\n",
    "3. Hard-Coded Example\n",
    "4. Mathematical Remarks on Beta\n",
    "___\n",
    "## 1. Context, Strategy and Remarks\n",
    "___\n",
    "The Endaoed exploration of the question posed by the Liquity team has landed on a strategy that lands adjacent to what was asked for. The approach does not attempt not to model price directly, but instead we have chosen to develop a model that describes how the informed demand of a user actualises to a decision. Two concern have deterred exploration into routes towards price estimation with economic-behavioural tools: Classic Walrassian assumptions such as rationality, weak rationality, perfect information, market liquidity, concave utility, etc, are not only fanciful, they are especially unreasonable in the context of protocols likely to employ the CB mechanism. More critically however, such insistent algebraic and calculus schlonging intended to bully out some suggestion of a price from the system variables can be quite unbearable on the eyes and, all too often in the experience of the author, the soul. Thus from our nicotine fuelled musings, an alternative was arrived at which employs the spirit of the beta distribution! It is the conviction of the Endaoed team that this soul-affirming, pragmatic and dignified cooperation with the system variables contains the kernel of a profitable insight.\n",
    "\n",
    "___\n",
    "### The Beta Composition Strategy\n",
    "___\n",
    "Describing the strategy in the broadest strokes allows the reader to speculate as to how it may be generally applied in similar subjectivity-simulating situations. \n",
    "Thus, details for the exogenous variables of the CB mechanism will be discussed in detail later. The general strategy is as follows:\n",
    "\n",
    "##### Strategy Outline\n",
    "At any timestep, to determine how an agent presented with a decision to make might exercise a choice, define the decision such that it is to be \"followed through\" with some probability:\n",
    "\n",
    "1. Identify all system variables for which a subjective interpretation is required of the agent in order to make a decision.\n",
    "2. To each system variable, define a score that identifies a \"low\" to \"high\" range of possible variable values. This may require some conversion by metric-y means.\n",
    "3. Define an interpretative map such that a \"low\" value of the variable maps to a \"low\" probability that the agent will exercise the choice, \"high\" for high.\n",
    "4. Parameterise each variable's \"low\" to \"high\" range such that it maps to the interval $[1.5, 10.5]$, which will be the alpha parameter of a beta distribution. The beta parameter is determined by some relation to alpha. The attitude with which this map is to be determined is that of choosing a continuous series of Bayesian priors.\n",
    "5. Once the general continuum of priors is defined for each system variable, yield actual beta distribution parameters based on the system variable quantities at the timestep\n",
    "6. Exploit the beta distribution's composability property to arrive at composite beta distribution parameters. \\*(Further notes on Beta dist at the bottom)\n",
    "7. Use this prior to collect samples or use the betabinomial with the composite parameters to attain a decision.\n",
    "\n",
    "The final beta distribution attained can be thought of as a composite bayesian prior. The simple composability of the beta distribution allows us to easily acquire a model for the agent's likeliness to exercise the choice. It takes into account any subjective consideration that may influence an agent's decision, parameterised in any way we choose, composes them seamlessly all while remaining completely modular. One further flourish can be inserted between the original range and the final outputted beta parameters to bring even more realistic dynamics to the system, which is the use of a parameter modifier. The use of a modifier function allows the \"rate of change of betas\" speaking loosely, to match our expectations. \n",
    "\n",
    "In a single line, we could describe the beta strategy as: At every timestep, for every agent presented with a decision to be made, model the likelihood of \"following thorugh\" on the decision as a composite \"bayesian prior\" for an arbitrary number of independent pieces of information as a function of the unique propensities of the agent.\n",
    "\n",
    "##### Example\n",
    "To give a relevant, dummy example: consider a bond holder who is deciding whether or not they should redeem a bond. One imagines that the likeliness of redeeming, is a piecemeal function of time: from the moment of bonding until break-even, we would expect the probability of chickening in to be sticky around zero, though it may increase very slowly. After that point, the likeliness of redemption shoots upwards as the bond's age approaches \"optimal\" (whatever the user considers optimal given their particular strategy). Once the age of the bond breaks optimal redemption time, we expect the probability to never go to 100%, but to be sticky around 100% for every timestep thereafter. Modelling these attitudes with parametric functions, the lowest level parameter $age$ moves from  $[0, 1]$ linearly, but the parameter which determines where the bulk of the beta distribution lies is determined by, say,  $age^n$ which, while not piecemeal, captures the sentiment well enough for the purpose of this example. Thus, as $age$ moves across the unit interval, the beta distribution's mass moves with polynomial acceleration across the domain. (An interactive plot is provided below for an intuitive feel)\n",
    "\n",
    "\n",
    "##### Modifier\n",
    "This parameter modifier is also totally modular. Any modifier can be plugged in the place of $p^n$ to make the beta change however we wish. To hint at another example, we could hypothesise that the likeliness of redeeming bTKNs may have some connection with the daily return of the underlying TKN. If the TKN price suddenly jumped upwards and I had a position in bTKN, I could imagine I'd be tempted to redeem and dump slowly. In this case, we could use an exponential, linear relation, sinusoidal, whatever. \n",
    "\n",
    "\n",
    "##### Final structure of parametrics\n",
    "\n",
    "First, an initial range is defined which captures the lower and upper values, define such that the lower and upper bounds map to the lowest and greatest likeliness betas. The range is remapped with the modifier and parameterised to the unit interval $[0, 1]$, then the unit is mapped to the alpha range $[1.5, 10.5]$ from which the beta parameter is derived. The mapping to the unit interval appears analytically unnecessary, but it has some benefits in implementation of the actual code, for example, when using a logarithmic modifier. Let us clarify precisely what this stack of maps look like:\n",
    "\n",
    "1. Variable range is defined $[V_{min}, V_{max}]$ and modifier $m: \\mathbb{R} \\mapsto \\mathbb{R}^+$ is chosen.\n",
    "\n",
    "$$\n",
    "\\begin{align}\n",
    "f_1 &: \\mathbb{R} \\mapsto [0, 1]\\\\\n",
    "f_1(x) &= \n",
    "\\begin{cases}\n",
    "0 & x < V_{min}\\\\\n",
    "\\frac{m(x) - min(m(x))}{max(m(x)) - min(m(x))} & x \\in [V_{min}, V_{max}]\\\\\n",
    "1 & x > V_{max}\n",
    "\\end{cases}\n",
    "\\end{align}\n",
    "$$\n",
    "\n",
    "The variable range does not suggest bounds for possible system values, but they bound the agent's probability assigning values: \"For values $V_{max}$ and above, I absolutely want to redeem\"\n",
    "\n",
    "2. The unit is mapped to $[1.5, 10.5]$ to give alpha and beta:\n",
    "\n",
    "$$\n",
    "\\begin{align}\n",
    "f_2(x) &= 9x + 1.5\\\\\\\\\n",
    "\\alpha &= f_2(x), \\>\\> \\beta = 12 - f_2(x)\n",
    "\\end{align}\n",
    "$$\n",
    "\n",
    "##### Implementation\n",
    "A natural way to implement this is to place the parametric's parameters that determine agent beta distribution parameters as properties of the agent. This is sensible on the interpretation front as it is the agent's propensities that are being beta-dist'ed. And a corollary of this setup is that we can design subpopulations of users by engineering \"typical\" parameter profiles. Thus, we can consider users who are \"rational\", \"mercenary\", \"risk averse\", \"what is a stop-loss?\", etc. This is where behavioural speculation can take the limelight on the stage provided by our plug-and-play instrument.\n",
    "\n",
    "A possible approach is to consider, for each variable, an upper and lower bound, a weighting of importance for the variable and the agent's sensitivity to change in the vairable, which is velocity. Thus, to each agent, add the property \"propensities\" which contains a dictionary of the above mentioned:\n",
    "\n",
    "```\n",
    "agent = {\n",
    "    propensities : {\n",
    "        var1 : {\n",
    "            lower : float,\n",
    "            upper: float,\n",
    "            weight : float,\n",
    "            vel : int\n",
    "        },\n",
    "        var2 : {\n",
    "            ...\n",
    "        },\n",
    "        ...\n",
    "        varN : {\n",
    "            ...\n",
    "        }\n",
    "    },\n",
    "    other agent properties: {\n",
    "        ...\n",
    "    }\n",
    "}\n",
    "```\n",
    "\n",
    "The simulation can read the properties of each agent, crunch out the beta parameters then yield a decision from, probably an `np.betabinomial` for that individual agent.\n",
    "\n",
    "##### Final Remark - Relevance to the original question\n",
    "Tying this strategy into an actual price estimate would probably depend on what the method of price estimation. Our efforts were entirely focused on the relevance of the instrument to our cadCad model in the primary interest of simulating. Honestly, we can't see how a useful price modelling is possible if the system model imposes hard assumptions everywhere. From the author's limited readings into modelling economic systems or variables, any such impositions that flatten the system's complexity in any way will yield results that usually don't have an easy interpretation with respect to an assumption-unrestricted run. Even if it does appear to have an easy interpretation, it is all too easy to get causality backwards, to find a correlation without causation, fail to spot an assumption of path independence, etc. Having said all this, price estimation is not something in our experiential repertoire, so perhaps the hint of pessimism in this remark is really an undue corollary of our limitations in this domain. In recognising this, we are eager to see if and how this instrument could be of value to the Liquity team, and thus we would endorse the profitable appropriation of this small instrument or its components into any other context."
   ]
  },
  {
   "cell_type": "code",
   "execution_count": 1,
   "id": "f0a07022",
   "metadata": {},
   "outputs": [],
   "source": [
    "import numpy as np\n",
    "import matplotlib.pyplot as plt\n",
    "from explain_beta_helper import *"
   ]
  },
  {
   "cell_type": "markdown",
   "id": "b96086c3",
   "metadata": {},
   "source": [
    "## 2. Beta Intuition \n",
    "By toying with the parameters, one can arrive acquire a feel for how it moves:"
   ]
  },
  {
   "cell_type": "code",
   "execution_count": 2,
   "id": "87d85a35",
   "metadata": {
    "scrolled": false
   },
   "outputs": [
    {
     "data": {
      "application/vnd.jupyter.widget-view+json": {
       "model_id": "b6f90f81e0654e528f5bd83a8712cb2c",
       "version_major": 2,
       "version_minor": 0
      },
      "text/plain": [
       "interactive(children=(FloatSlider(value=6.0, description='a', max=40.0, step=0.001), FloatSlider(value=6.0, de…"
      ]
     },
     "metadata": {},
     "output_type": "display_data"
    },
    {
     "data": {
      "application/vnd.jupyter.widget-view+json": {
       "model_id": "e2361f0be4754df5a518fb44dc8652f2",
       "version_major": 2,
       "version_minor": 0
      },
      "text/plain": [
       "FigureWidget({\n",
       "    'data': [{'type': 'scatter',\n",
       "              'uid': '07040db4-fd43-4846-b953-f956968a2312',\n",
       " …"
      ]
     },
     "metadata": {},
     "output_type": "display_data"
    }
   ],
   "source": [
    "standard_beta()"
   ]
  },
  {
   "cell_type": "markdown",
   "id": "0ec852cd",
   "metadata": {},
   "source": [
    "After some time, it might be observed that alpha and beta moving in contrary motion slides the mass of the beta distribution across the unit interval. The gliding motion of the distribution created by the contra-motion of the parameters suggests a way in which the beta's parameters might suggest a mapping of unlikeliness to likeliness where rising alpha values generally correspond to rising likeliness and rising beta values generally corresponds to lowering. This is the motivation for having a constraint at all. The choice of 12 as the upper bound is perhaps unnecessary, but it feels safe having not the time to analyse to much depth. Some experimentation at the boundaries of $\\alpha + \\beta = 12$ may reveal why. In any case, the interactive plot below is identical to the previous, but only the control for the alpha parameter is exposed. The beta value is determined automatically by $\\beta = 12-\\alpha$. Observe how the mass of the distribution slides across the domain. "
   ]
  },
  {
   "cell_type": "code",
   "execution_count": 3,
   "id": "e0f102d0",
   "metadata": {
    "scrolled": false
   },
   "outputs": [
    {
     "data": {
      "application/vnd.jupyter.widget-view+json": {
       "model_id": "9443b1d3cc294515b02af96d03ef1527",
       "version_major": 2,
       "version_minor": 0
      },
      "text/plain": [
       "interactive(children=(FloatSlider(value=6.0, description='a', max=10.5, min=1.5, step=0.001), Output()), _dom_…"
      ]
     },
     "metadata": {},
     "output_type": "display_data"
    },
    {
     "data": {
      "application/vnd.jupyter.widget-view+json": {
       "model_id": "28f11fb781e2491da6a396b313fc89d6",
       "version_major": 2,
       "version_minor": 0
      },
      "text/plain": [
       "FigureWidget({\n",
       "    'data': [{'type': 'scatter',\n",
       "              'uid': 'd06a46f6-5ef8-46d0-99f3-43007fb7c66a',\n",
       " …"
      ]
     },
     "metadata": {},
     "output_type": "display_data"
    }
   ],
   "source": [
    "constrained_beta()"
   ]
  },
  {
   "cell_type": "markdown",
   "id": "0ecb7b0b",
   "metadata": {},
   "source": [
    "The next layer of manipulation determines the sensitivity of the beta to the underlying parameter. This is the effect of the modifier functions mentioned earlier. Sliding the alpha parameter with constant speed in the previous interactive will slide the distribution across the unit interval with constant speed. This is not the case for the interactive below. The distribution below is relatively insensitive to change of alpha on the lower portion of the interval, but is very sensitive to the upper. This rate of change modification is achieved by re-parameterising the alpha and beta values so that they still add to the constant $12$ but also move with an acceleration. For the interactive plot below, the parameters are defined: \n",
    "$$\n",
    "\\begin{align}\\alpha = 9p^{8}+1.5\\\\ \\beta = 10.5 - 9 p^{8}\n",
    "\\end{align}\n",
    "$$\n",
    "where $p \\in [0, 1]$ is the linearly changing parameter\n",
    "\n",
    "The choice of 8 as the exponent was for exaggerated visual effect and is otherwise arbitrary. The choice of polynomial function is also arbitrary. It could be replaced by an exponential or any other choice of function."
   ]
  },
  {
   "cell_type": "code",
   "execution_count": 4,
   "id": "c42abb7e",
   "metadata": {},
   "outputs": [
    {
     "data": {
      "application/vnd.jupyter.widget-view+json": {
       "model_id": "c5c6307e629549278299bae244bf60d5",
       "version_major": 2,
       "version_minor": 0
      },
      "text/plain": [
       "interactive(children=(FloatSlider(value=0.0, description='p', max=1.0, step=0.001), Output()), _dom_classes=('…"
      ]
     },
     "metadata": {},
     "output_type": "display_data"
    },
    {
     "data": {
      "application/vnd.jupyter.widget-view+json": {
       "model_id": "fc150efa27db41bab98f802193b20cef",
       "version_major": 2,
       "version_minor": 0
      },
      "text/plain": [
       "FigureWidget({\n",
       "    'data': [{'type': 'scatter',\n",
       "              'uid': 'd84886d2-d2f7-4afd-8a0d-3c828c915d02',\n",
       " …"
      ]
     },
     "metadata": {},
     "output_type": "display_data"
    }
   ],
   "source": [
    "constrained_beta_with_nonlinear_param()"
   ]
  },
  {
   "cell_type": "markdown",
   "id": "0b5ded7f",
   "metadata": {},
   "source": [
    "The final piece of intuition that may be valuable is to understand is how exactly the composition occurs, and why we choose to add parameters as compared to adding the functions as a superimposition and normalising. After all, the priors could have been superimposed, as is suggested by Richard Royall in his Statistical Evidence: A Likelihood Paradigm. This method makes the most sense if we had multiple pieces of evidence for the same underlying phenomenon, but this is not the case for our mechanism. Instead, we require of the agent considerations for multiple differing underlying forces, each which will have associated priors not necessarily related to another. Still, they are all subjectively influential, and thus the information must be composed in another way. Multiplied, the distributions combine like priors and likelihoods, though this comparison is not perfect for reasons outlined in the bottom maths section. On the other hand, it's not completely unlike priors and likelihoods: suppose two subjective considerations independently suggest to the agent a 10% chance ($B(2, 20)$) of exercising a decision. Then to consider both, they sharpen the agent's confidence on that 10% value - visually, we would expect two betas that clump around 0.1 to compose into a narrower beta that clumps around 10%. Since neither of the two considerations contain evidence in the form of actual data, theoretically the pair shouldn't move the probability. Thus, there is some realism to the multiplicative approach, for which the final parameters are a function of the sum of the parameters for the individual considerations."
   ]
  },
  {
   "cell_type": "code",
   "execution_count": 5,
   "id": "b8705994",
   "metadata": {
    "scrolled": false
   },
   "outputs": [
    {
     "data": {
      "application/vnd.jupyter.widget-view+json": {
       "model_id": "0ec5fff7e10d425ea9dc66dbe891086e",
       "version_major": 2,
       "version_minor": 0
      },
      "text/plain": [
       "interactive(children=(FloatSlider(value=1.5, description='a', max=10.5, min=1.5, step=0.001), Output()), _dom_…"
      ]
     },
     "metadata": {},
     "output_type": "display_data"
    },
    {
     "data": {
      "application/vnd.jupyter.widget-view+json": {
       "model_id": "eb4c6abe9c564e74b7c68e5673c4d150",
       "version_major": 2,
       "version_minor": 0
      },
      "text/plain": [
       "FigureWidget({\n",
       "    'data': [{'line': {'color': 'blue', 'width': 4},\n",
       "              'name': 'summed beta',\n",
       "     …"
      ]
     },
     "metadata": {},
     "output_type": "display_data"
    }
   ],
   "source": [
    "additive_beta_composition()"
   ]
  },
  {
   "cell_type": "markdown",
   "id": "9af4dd78",
   "metadata": {},
   "source": [
    "1. summed beta (blue) is the superimposition (added) beta that is the output beta\n",
    "2. fixed beta (dashed black) is the base beta which is fixed for the sake of example\n",
    "3. added beta (orange) is the beta which is added onto the base\n",
    "\n",
    "Note the above is adding the betas directly without normalisation. The summed beta does not behave in a way that matches sensible assumptions about agents:\n",
    "1. When the added beta (orange, affected by slider) is on the right, we get a two-hump prior\n",
    "2. When the added beta is on the left, the superimposition achieves get no sharpening of confidence (a tightened distribution). Instead, the summed beta is roughly as wide as the fixed beta."
   ]
  },
  {
   "cell_type": "code",
   "execution_count": 6,
   "id": "2a5eea74",
   "metadata": {
    "scrolled": false
   },
   "outputs": [
    {
     "data": {
      "application/vnd.jupyter.widget-view+json": {
       "model_id": "b190df795d8e4e20a327caf4e83c289a",
       "version_major": 2,
       "version_minor": 0
      },
      "text/plain": [
       "interactive(children=(FloatSlider(value=1.5, description='red', max=10.0, min=1.5, step=0.001), Output()), _do…"
      ]
     },
     "metadata": {},
     "output_type": "display_data"
    },
    {
     "data": {
      "application/vnd.jupyter.widget-view+json": {
       "model_id": "b729c6d82d9f473484725b353d119b62",
       "version_major": 2,
       "version_minor": 0
      },
      "text/plain": [
       "FigureWidget({\n",
       "    'data': [{'line': {'color': 'blue', 'width': 3},\n",
       "              'name': 'composite Beta',\n",
       "  …"
      ]
     },
     "metadata": {},
     "output_type": "display_data"
    }
   ],
   "source": [
    "multiplicative_beta_composition()"
   ]
  },
  {
   "cell_type": "markdown",
   "id": "8e498756",
   "metadata": {},
   "source": [
    "Let's remove the constraint and allow three sliding betas to produce our composite blue beta:"
   ]
  },
  {
   "cell_type": "code",
   "execution_count": 7,
   "id": "d800caca",
   "metadata": {
    "scrolled": false
   },
   "outputs": [
    {
     "data": {
      "application/vnd.jupyter.widget-view+json": {
       "model_id": "5b4e85433a7b43f89b32fa8a5d16b232",
       "version_major": 2,
       "version_minor": 0
      },
      "text/plain": [
       "interactive(children=(FloatSlider(value=1.5, description='red', max=10.0, min=1.5, step=0.001), FloatSlider(va…"
      ]
     },
     "metadata": {},
     "output_type": "display_data"
    },
    {
     "data": {
      "application/vnd.jupyter.widget-view+json": {
       "model_id": "be819d6585e046b79f48f4c4d1358f6b",
       "version_major": 2,
       "version_minor": 0
      },
      "text/plain": [
       "FigureWidget({\n",
       "    'data': [{'line': {'color': 'blue', 'width': 3},\n",
       "              'name': 'composite Beta',\n",
       "  …"
      ]
     },
     "metadata": {},
     "output_type": "display_data"
    }
   ],
   "source": [
    "multiplicative_beta_composition2()"
   ]
  },
  {
   "cell_type": "markdown",
   "id": "e684ff01",
   "metadata": {},
   "source": [
    "1. composite beta (blue) is the composed (multiplied) beta that is the output beta\n",
    "2. fixed beta (dashed black) is the base beta which is fixed for the sake of example\n",
    "3. imposed beta (orange) is the beta which is multiplied to the base\n",
    "\n",
    "Experimentation with the parameter and inspection will be most informative, but I wish to point out, regarding the blue composite beta: \n",
    "- Sharpens as the fixed and imposed betas overlap (black and orange combine in a way that \"sharpens\" confidence)\n",
    "- is a Single hump prior that \"averages\" the two in a way that feels like a reasonable approximation of realistic, subjective composition of information\n",
    "\n",
    "This gives us all the necessary parametric tools and intuitions to start thinking about the strategy.\n"
   ]
  },
  {
   "cell_type": "markdown",
   "id": "efe81bfc",
   "metadata": {},
   "source": [
    "## 3. Hard Coded Example\n",
    "\n",
    "Details of the general strategy are not rigorously defined, both in this notebook, and the actual formulation the author has in mind. Therefore, it is easiest (and most realistic given time constraints) to relay understanding by producing an example. Let's suppose that an agent is holding a bond and considers at every timestep from initialisation until redemption whether or not the bond should be redeemed. For simplicity without loss of insight/generality, let us assume that there are four considerations the agent mulls over before making a decision. Let's use the outline of the strategy and fill in the technical details step by step:\n",
    "\n",
    "\n",
    "##### 1. Identify all system variables for which a subjective interpretation is required of the agent in order to make a decision.\n",
    "1. Age of the bond owned by the agent\n",
    "2. Volume of TKN traded on Uniswap the day before\n",
    "3. Number of bonds chickened-in the day before\n",
    "4. Number of yellow cars spotted on commutes the day before\n",
    "\n",
    "##### 2. To each system variable, define a score that identifies a \"low\" to \"high\" range of possible variable values. This may require some conversion by metric-y means.\n",
    "1. $[1, 35]$ (optimal redemption time is 35 and no redemption in the same day as creation)\n",
    "2. $[5 \\times 10^3, 5\\times 10^6]$\n",
    "3. $[0, 5]$\n",
    "4. $[1, 10]$ (the agent's car is yellow)\n",
    "\n",
    "These don't exhaust the possible range of values that could be observed. They are only the values at which the agent's probabilities hit boundaries (which yield distributions from which a decision is sampled - not spot probabilities).\n",
    "\n",
    "##### 3. Define an interpretative map such that a \"low\" value of the variable maps to a \"low\" probability that the agent will exercise the choice, \"high\" for high.\n",
    "1. low values -> low probability with polynomial velocity\n",
    "    - $\\alpha \\propto p^d$ for parameter $p \\in [0,1]$ and degree $d$\n",
    "2. low values -> low probability with root velocity\n",
    "    - $\\alpha \\propto ln(p)$ for parameter $p \\in [0,1]$\n",
    "3. low values -> low probability with linear velocity\n",
    "    - $\\alpha \\propto p$ for parameter $p \\in [0,1]$\n",
    "4. Uniform\n",
    "    - $\\alpha = 1, \\beta = 1$ (special case out of bounds)\n",
    "\n",
    "##### 4. Parameterise each variable's \"low\" to \"high\" range such that it maps to the interval $[1.5, 10.5]$, which will be the alpha parameter of a beta distribution. The beta parameter is determined by some relation to alpha. The attitude with which this map is to be determined is that of choosing a continuous series of Bayesian priors.\n",
    "\n",
    "For all considerations:\n",
    "$$\n",
    "\\begin{align}\\text{alpha range} &= \\frac{(I_{nterval} - I_{min}) (10.5 - 1.5)}{I_{max} - I_{min}}\\\\\n",
    "\\alpha &\\in [1.5, 10.5]\\text{ ,  } \\beta= 12-\\alpha\\\\\n",
    "\\end{align}\n",
    "$$\n",
    "##### 5. Once the general continuum of priors is defined for each system variable, yield actual beta distribution parameters based on the system variable quantities at the timestep.\n",
    "For the sake of ceteris paribus, let's fix the agent's propensities and consider two different status quos at a timestep $t$.\n",
    "\n",
    "The agent's propensities are defined:\n",
    "- bond_age \n",
    "    - velocity : 3\n",
    "    - modifier : polynomial\n",
    "    - weight : 1\n",
    "- traded volume\n",
    "    - velocity : 3\n",
    "    - modifier : logarithmic\n",
    "    - weight : 1\n",
    "- n chicken-ins\n",
    "    - velocity : 1\n",
    "    - modifier : linear\n",
    "    - weight : 1\n",
    "- n yellow cars\n",
    "    - velocity : na\n",
    "    - modifier: uniform\n",
    "    - weight : 1\n",
    "\n",
    "Version 1 status quo\n",
    "\n",
    "- bond_age = 12\n",
    "- traded vol = $3.2\\times 10^3$\n",
    "- n chicken-ins = 1\n",
    "- n yellow cars = 3\n",
    "\n",
    "Version 2 status quo\n",
    "\n",
    "- bond_age = 40\n",
    "- traded vol = $1.78\\times 10^{4}$\n",
    "- n chicken-ins = 4\n",
    "- n yellow cars = $2\\times 10^{153} \\>\\>\\>\\> \\tiny\\text{(busy day)}$\n",
    "\n",
    "\n",
    "Modifiers\n",
    "\n",
    "- Polynomial $m_p(x, d) = x^{d}$\n",
    "- Logarithmic $m_l(x) = ln(x)$ No meaningful use of degree here since it will be affine'd away\n",
    "- Linear $m_a(x, d) = d \\cdot x$\n",
    "- Uniform $m_u(x, d) = \\text{\"uniform\"}$\n",
    "\n",
    "##### 6. Exploit the beta distribution's composability property to arrive at composite beta distribution parameters. \n",
    "V1:\n",
    "- age param: 0.04\n",
    "- vol param: 0.27\n",
    "- car param: NA\n",
    "    - $\\alpha$ = 6.82\n",
    "    - $\\beta$ = 19.18\n",
    "\n",
    "V2:\n",
    "- age param: 1\n",
    "- vol param: 0.68\n",
    "- car param: NA\n",
    "    - $\\alpha$ = 19.08\n",
    "    - $\\beta$ = 6.92\n",
    "\n",
    "##### 7. Use this prior to collect samples or use the betabinomial with the composite parameters to attain a decision.\n",
    "\n",
    "You do it man. I'm done."
   ]
  },
  {
   "cell_type": "code",
   "execution_count": 8,
   "id": "dc400a5e",
   "metadata": {},
   "outputs": [
    {
     "name": "stdout",
     "output_type": "stream",
     "text": [
      "\n",
      "VERSION 0\n",
      " \tIndividual params:\n",
      "\t bond_age \t a: 1.86, b: 10.14\n",
      "\t traded volume \t a: 1.50, b: 10.50\n",
      "\t chicken ins \t a: 3.30, b: 8.70\n",
      "\t yellow cars \t a: 1.00, b: 1.00\n",
      "\n",
      "Composed params: \t a: 7.66 b: 30.34\n",
      "\n",
      "\n",
      "VERSION 1\n",
      " \tIndividual params:\n",
      "\t bond_age \t a: 10.50, b: 1.50\n",
      "\t traded volume \t a: 7.58, b: 4.42\n",
      "\t chicken ins \t a: 8.70, b: 3.30\n",
      "\t yellow cars \t a: 1.00, b: 1.00\n",
      "\n",
      "Composed params: \t a: 27.78 b: 10.22\n",
      "\n"
     ]
    },
    {
     "data": {
      "image/png": "[encoded data removed]",
      "text/plain": [
       "<Figure size 864x432 with 4 Axes>"
      ]
     },
     "metadata": {
      "needs_background": "light"
     },
     "output_type": "display_data"
    }
   ],
   "source": [
    "# --- AGENT'S PROPENSITIES - keep in mind, these are properties of the agent\n",
    "age_r, age_v, age_m = np.array([0, 35]), 3, \"polynomial\"\n",
    "vol_r, vol_v, vol_m = np.array([1e3, 5e6]), 1, \"logarithmic\"\n",
    "ins_r, ins_v, ins_m = np.array([0, 5]), 1, \"linear\"\n",
    "car_r, car_v, car_m = np.array([1, 10]), 1, \"uniform\"\n",
    "\n",
    "# --- STATUS QUO SCENARIOS\n",
    "age_v1, vol_v1, ins_v1, car_v1 = 12, 3.2e2, 1, 3\n",
    "age_v2, vol_v2, ins_v2, car_v2 = 40, 1.78e4, 4, 2e153\n",
    "\n",
    "# --- Summarised propensities\n",
    "propensities = {\n",
    "    \"bond_age\" : {\"range\" : age_r, \"velocity\" : age_v, \"modifier\" : age_m},\n",
    "    \"traded volume\" : {\"range\" : vol_r, \"velocity\" : vol_v, \"modifier\" : vol_m},\n",
    "    \"chicken ins\" : {\"range\" : ins_r, \"velocity\" : ins_v, \"modifier\" : ins_m},\n",
    "    \"yellow cars\" : {\"range\" : car_r, \"velocity\" : car_v, \"modifier\" : car_m}\n",
    "}\n",
    "# --- Summarised versions\n",
    "versions = [\n",
    "    {\n",
    "        \"bond_age\" : age_v1,\n",
    "        \"traded volume\" : vol_v1,\n",
    "        \"chicken ins\" : ins_v1,\n",
    "        \"yellow cars\" : car_v1,\n",
    "    },\n",
    "    {\n",
    "        \"bond_age\" : age_v2,\n",
    "        \"traded volume\" : vol_v2,\n",
    "        \"chicken ins\" : ins_v2,\n",
    "        \"yellow cars\" : car_v2,\n",
    "    }\n",
    "]\n",
    "\n",
    "# --- Extract alphas and plot\n",
    "output_params = [composer(propensities, v) for v in versions]\n",
    "plot_output(output_params)\n",
    "output_version_results(output_params)"
   ]
  },
  {
   "cell_type": "markdown",
   "id": "2e9a3d89",
   "metadata": {},
   "source": [
    "## 4. Mathematical Remarks on Beta\n",
    "\n",
    "The PDF for the beta distribution on $ x\\in [0, 1]$ with parameters $\\alpha, \\beta \\in \\mathbb{R}$ :\n",
    "\n",
    "$$\n",
    "f(x, \\alpha, \\beta) = \\frac{1}{B(\\alpha, \\beta)} x^{\\alpha-1}(1-x)^{\\beta-1}\n",
    "$$\n",
    "\n",
    "where the $B$ function is a bunch of gamma stuff, which serves as a normalising constant on the $x$ part of the function (the kernel)\n",
    "\n",
    "The kernel of the beta pdf reveals why the beta functions are so compliant to composition. If we have two beta distributions, $Beta_1(\\alpha_1, \\beta_1)$ and  $Beta_2(\\alpha_2, \\beta_2)$ then, ignoring the normaliser, we have:\n",
    "\n",
    "$$\n",
    "\\begin{align}\n",
    "&Beta_1(\\alpha_1, \\beta_1) \\cdot Beta_2(\\alpha_2, \\beta_2)\\\\\n",
    "\\implies &x^{\\alpha_1 - 1}(1-x)^{\\beta_1 - 1} \\cdot x^{\\alpha_2 - 1}(1-x)^{\\beta_2 - 1}\\\\\n",
    "\\implies &x^{\\alpha_1 + \\alpha_2 - 2}(1-x)^{\\beta_1 + \\beta_2 - 2}\\\\\n",
    "\\implies &Beta_1(\\alpha_1 + \\alpha_2 - 1, \\beta_1 + \\beta_2 - 1)\\\\\n",
    "\\end{align}\n",
    "$$\n",
    "\n",
    "For $n$ system variables, that's n beta distributions composed into final beta dist $\\mathcal{Beta}$:\n",
    "\n",
    "$$\n",
    "\\begin{align}\n",
    "&\\mathcal{Beta}(A-n, B-n)\n",
    "\\end{align}\n",
    "$$\n",
    "where $A = \\sum_{i=1}^{n} \\alpha_i$ and $B = \\sum_{i=1}^{n} \\beta_i$ are the sums of system parameters\n",
    "\n",
    "##### Analogy to Bayesian stuff\n",
    "Since we aren't combining a prior with a likelihood, it doesn't add up to a posterior exactly. I'm not sure how to interpret the fact that the final parameters are one reduced per layer of variable, the hand-wavy interpretation in my head that makes the most sense is that it has something to do with degrees of freedom, but this is pushing my statistical understanding, so I won't go any deeper on this. This also needs to be reconciled with the bounds placed on the beta distritbution parameters, as the constraint was not designed with this maths in mind.\n",
    "\n",
    "##### Beta Composition Rules\n",
    "\n",
    "Additive superimposition versus multiplicative composition has been roughly explained, but there are still quirks of the compositional approach that strike me as problematic. For example, the confidence-sharpening phenomena that occurs with composition of overlapping betas is sensible and happens with the additive parameter combining, but confidence reducing might need to be considered since adding betas almost always seems to sharpen confidnece, though i'm speculating without having done a thorough analysis. I have a hunch that limiting composition to only addition of parameters might skew things to the middle more than we would want, in which case, maybe some sort of beta factorising might be useful? Hard to say without a more rigorous analysis which would be on the to-do list but for time. Another issue that feels pretty important is that there are surely subjective factors which may overwhelm other consideations entirely. For example, once a bond hits optimal redemption time, it feels like a more sensible assumption that most agents would ignore almost all other variables most of the time. Perhaps if the weighting propensity of the agents were in $[0, 1]$ and add to 1, then we could have some kind of \"trade-off of considerations\" notion? It gets complicated, so I'm leaving these considerations as an exercise to the reader because I need a holiday."
   ]
  },
  {
   "cell_type": "code",
   "execution_count": null,
   "id": "eb1d2fdb",
   "metadata": {},
   "outputs": [],
   "source": []
  }
 ],
 "metadata": {
  "kernelspec": {
   "display_name": "Python 3 (ipykernel)",
   "language": "python",
   "name": "python3"
  },
  "language_info": {
   "codemirror_mode": {
    "name": "ipython",
    "version": 3
   },
   "file_extension": ".py",
   "mimetype": "text/x-python",
   "name": "python",
   "nbconvert_exporter": "python",
   "pygments_lexer": "ipython3",
   "version": "3.9.13"
  }
 },
 "nbformat": 4,
 "nbformat_minor": 5
}
